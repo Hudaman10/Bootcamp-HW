{
 "cells": [
  {
   "cell_type": "code",
   "execution_count": 1,
   "metadata": {},
   "outputs": [],
   "source": [
    "#Import Dependencies\n",
    "import pandas as pd\n",
    "from bs4 import BeautifulSoup\n",
    "import requests\n",
    "from splinter import Browser"
   ]
  },
  {
   "cell_type": "code",
   "execution_count": 2,
   "metadata": {},
   "outputs": [],
   "source": [
    "# URL of page to be scraped\n",
    "url = 'https://mars.nasa.gov/news/'\n",
    "#URL of page to be scraped\n",
    "executable_path = {'executable_path': '/usr/local/bin/chromedriver'}\n",
    "browser = Browser('chrome', **executable_path, headless=False)\n",
    "browser.visit(url)\n",
    "html = browser.html\n",
    "soup = BeautifulSoup(html, 'html.parser')"
   ]
  },
  {
   "cell_type": "code",
   "execution_count": 3,
   "metadata": {},
   "outputs": [
    {
     "name": "stdout",
     "output_type": "stream",
     "text": [
      "40\n",
      "<li class=\"slide\"><div class=\"image_and_description_container\"><a href=\"/news/8395/mars-new-home-a-large-sandbox/\" target=\"_self\"><div class=\"rollover_description\"><div class=\"rollover_description_inner\">With InSight safely on the surface of Mars, the mission team is busy learning more about the spacecraft's landing site.</div><div class=\"overlay_arrow\"><img alt=\"More\" src=\"/assets/overlay-arrow.png\"/></div></div><div class=\"list_image\"><img alt=\"NASA’s InSight spacecraft flipped open the lens cover on its Instrument Context Camera (ICC) on Nov. 30, 2018, and captured this view of Mars.\" src=\"/system/news_items/list_view_images/8395_ICCDustCoverOff_C000M0004_596888328EDR_F0000_0461M1_320.png\"/></div><div class=\"bottom_gradient\"><div><h3>Mars New Home 'a Large Sandbox'</h3></div></div></a><div class=\"list_text\"><div class=\"list_date\">November 30, 2018</div><div class=\"content_title\"><a href=\"/news/8395/mars-new-home-a-large-sandbox/\" target=\"_self\">Mars New Home 'a Large Sandbox'</a></div><div class=\"article_teaser_body\">With InSight safely on the surface of Mars, the mission team is busy learning more about the spacecraft's landing site.</div></div></div></li>\n",
      "<li class=\"slide\"><div class=\"image_and_description_container\"><a href=\"/news/8394/nasa-hears-marco-cubesats-loud-and-clear-from-mars/\" target=\"_self\"><div class=\"rollover_description\"><div class=\"rollover_description_inner\">A pair of tiny, experimental spacecraft fulfilled their mission yesterday, relaying back near-real-time data during InSight's landing.</div><div class=\"overlay_arrow\"><img alt=\"More\" src=\"/assets/overlay-arrow.png\"/></div></div><div class=\"list_image\"><img alt=\"MarCO-B took this image of Mars from about 4,700 miles (7,600 kilometers) away during its flyby of Mars on Nov. 26, 2018.\" src=\"/system/news_items/list_view_images/8394_MarCOfarewell_320.jpg\"/></div><div class=\"bottom_gradient\"><div><h3>NASA Hears MarCO CubeSats Loud and Clear from Mars </h3></div></div></a><div class=\"list_text\"><div class=\"list_date\">November 27, 2018</div><div class=\"content_title\"><a href=\"/news/8394/nasa-hears-marco-cubesats-loud-and-clear-from-mars/\" target=\"_self\">NASA Hears MarCO CubeSats Loud and Clear from Mars </a></div><div class=\"article_teaser_body\">A pair of tiny, experimental spacecraft fulfilled their mission yesterday, relaying back near-real-time data during InSight's landing.</div></div></div></li>\n",
      "<li class=\"slide\"><div class=\"image_and_description_container\"><a href=\"/news/8393/insight-is-catching-rays-on-mars/\" target=\"_self\"><div class=\"rollover_description\"><div class=\"rollover_description_inner\">The lander has sent data indicating its solar panels are open and receiving sunlight to power its surface operations.</div><div class=\"overlay_arrow\"><img alt=\"More\" src=\"/assets/overlay-arrow.png\"/></div></div><div class=\"list_image\"><img alt=\"The Instrument Deployment Camera (IDC), located on the robotic arm of NASA's InSight lander, took this photo on the surface of Mars.\" src=\"/system/news_items/list_view_images/8393_D000M0000_596535424EDR_F0000_0106M1-stretch_320.jpg\"/></div><div class=\"bottom_gradient\"><div><h3>InSight Is Catching Rays on Mars</h3></div></div></a><div class=\"list_text\"><div class=\"list_date\">November 26, 2018</div><div class=\"content_title\"><a href=\"/news/8393/insight-is-catching-rays-on-mars/\" target=\"_self\">InSight Is Catching Rays on Mars</a></div><div class=\"article_teaser_body\">The lander has sent data indicating its solar panels are open and receiving sunlight to power its surface operations.</div></div></div></li>\n",
      "<li class=\"slide\"><div class=\"image_and_description_container\"><a href=\"/news/8392/nasa-insight-lander-arrives-on-martian-surface/\" target=\"_self\"><div class=\"rollover_description\"><div class=\"rollover_description_inner\">The touchdown marks the eighth time NASA has successfully landed a spacecraft on Mars.</div><div class=\"overlay_arrow\"><img alt=\"More\" src=\"/assets/overlay-arrow.png\"/></div></div><div class=\"list_image\"><img alt=\"The NASA InSight team reacts after receiving confirmation that the spacecraft successfully touched down on the surface of Mars.\" src=\"/system/news_items/list_view_images/8392_touchdown_320.jpg\"/></div><div class=\"bottom_gradient\"><div><h3>NASA InSight Lander Arrives on Martian Surface </h3></div></div></a><div class=\"list_text\"><div class=\"list_date\">November 26, 2018</div><div class=\"content_title\"><a href=\"/news/8392/nasa-insight-lander-arrives-on-martian-surface/\" target=\"_self\">NASA InSight Lander Arrives on Martian Surface </a></div><div class=\"article_teaser_body\">The touchdown marks the eighth time NASA has successfully landed a spacecraft on Mars.</div></div></div></li>\n",
      "<li class=\"slide\"><div class=\"image_and_description_container\"><a href=\"/news/8391/landing-day-for-insight/\" target=\"_self\"><div class=\"rollover_description\"><div class=\"rollover_description_inner\">NASA's InSight spacecraft is on target for Mars landing at around noon PST today.</div><div class=\"overlay_arrow\"><img alt=\"More\" src=\"/assets/overlay-arrow.png\"/></div></div><div class=\"list_image\"><img alt=\"The InSight spacecraft approaches Mars in this artist’s concept.\" src=\"/system/news_items/list_view_images/8391_PIA22099-16_320.jpg\"/></div><div class=\"bottom_gradient\"><div><h3>Landing Day for InSight</h3></div></div></a><div class=\"list_text\"><div class=\"list_date\">November 25, 2018</div><div class=\"content_title\"><a href=\"/news/8391/landing-day-for-insight/\" target=\"_self\">Landing Day for InSight</a></div><div class=\"article_teaser_body\">NASA's InSight spacecraft is on target for Mars landing at around noon PST today.</div></div></div></li>\n",
      "<li class=\"slide\"><div class=\"image_and_description_container\"><a href=\"/news/8390/nasa-insight-landing-on-mars-milestones/\" target=\"_self\"><div class=\"rollover_description\"><div class=\"rollover_description_inner\">On Nov. 26, NASA's InSight spacecraft will blaze through the Martian atmosphere and set a lander gently on the surface in less time than it takes to cook a hard-boiled egg.</div><div class=\"overlay_arrow\"><img alt=\"More\" src=\"/assets/overlay-arrow.png\"/></div></div><div class=\"list_image\"><img alt=\"This illustration shows a simulated view of NASA's InSight lander descending towards the surface of Mars on its parachute.\" src=\"/system/news_items/list_view_images/8390_PIA22809-th.jpg\"/></div><div class=\"bottom_gradient\"><div><h3>NASA InSight Landing on Mars: Milestones</h3></div></div></a><div class=\"list_text\"><div class=\"list_date\">November 21, 2018</div><div class=\"content_title\"><a href=\"/news/8390/nasa-insight-landing-on-mars-milestones/\" target=\"_self\">NASA InSight Landing on Mars: Milestones</a></div><div class=\"article_teaser_body\">On Nov. 26, NASA's InSight spacecraft will blaze through the Martian atmosphere and set a lander gently on the surface in less time than it takes to cook a hard-boiled egg.</div></div></div></li>\n",
      "<li class=\"slide\"><div class=\"image_and_description_container\"><a href=\"/news/8389/nasa-insight-team-on-course-for-mars-touchdown/\" target=\"_self\"><div class=\"rollover_description\"><div class=\"rollover_description_inner\">NASA's Mars InSight spacecraft is on track for a soft touchdown on the surface of the Red Planet on Nov. 26.</div><div class=\"overlay_arrow\"><img alt=\"More\" src=\"/assets/overlay-arrow.png\"/></div></div><div class=\"list_image\"><img alt=\"\" src=\"/system/news_items/list_view_images/8389_PIA22100_320.jpg\"/></div><div class=\"bottom_gradient\"><div><h3>NASA InSight Team on Course for Mars Touchdown</h3></div></div></a><div class=\"list_text\"><div class=\"list_date\">November 21, 2018</div><div class=\"content_title\"><a href=\"/news/8389/nasa-insight-team-on-course-for-mars-touchdown/\" target=\"_self\">NASA InSight Team on Course for Mars Touchdown</a></div><div class=\"article_teaser_body\">NASA's Mars InSight spacecraft is on track for a soft touchdown on the surface of the Red Planet on Nov. 26.</div></div></div></li>\n",
      "<li class=\"slide\"><div class=\"image_and_description_container\"><a href=\"/news/8388/what-two-planetary-siblings-can-teach-us-about-life/\" target=\"_self\"><div class=\"rollover_description\"><div class=\"rollover_description_inner\">In studying Mars, NASA's InSight will reveal what makes one planet more or less suitable for life than another.</div><div class=\"overlay_arrow\"><img alt=\"More\" src=\"/assets/overlay-arrow.png\"/></div></div><div class=\"list_image\"><img alt=\"This composite image of Earth and Mars was created to allow viewers to gain a better understanding of the relative sizes of the two planets.\" src=\"/system/news_items/list_view_images/8388_20030728_marsClose02_320.jpg\"/></div><div class=\"bottom_gradient\"><div><h3>What Two Planetary Siblings Can Teach Us About Life</h3></div></div></a><div class=\"list_text\"><div class=\"list_date\">November 20, 2018</div><div class=\"content_title\"><a href=\"/news/8388/what-two-planetary-siblings-can-teach-us-about-life/\" target=\"_self\">What Two Planetary Siblings Can Teach Us About Life</a></div><div class=\"article_teaser_body\">In studying Mars, NASA's InSight will reveal what makes one planet more or less suitable for life than another.</div></div></div></li>\n",
      "<li class=\"slide\"><div class=\"image_and_description_container\"><a href=\"/news/8387/nasa-announces-landing-site-for-mars-2020-rover/\" target=\"_self\"><div class=\"rollover_description\"><div class=\"rollover_description_inner\">After a five-year search, NASA has chosen Jezero Crater as the landing site for its upcoming Mars 2020 rover mission.</div><div class=\"overlay_arrow\"><img alt=\"More\" src=\"/assets/overlay-arrow.png\"/></div></div><div class=\"list_image\"><img alt=\"On ancient Mars, water carved channels and transported sediments to form fans and deltas within lake basins. \" src=\"/system/news_items/list_view_images/8387_JezeroCrater-320x240.jpg\"/></div><div class=\"bottom_gradient\"><div><h3>NASA Announces Landing Site for Mars 2020 Rover</h3></div></div></a><div class=\"list_text\"><div class=\"list_date\">November 19, 2018</div><div class=\"content_title\"><a href=\"/news/8387/nasa-announces-landing-site-for-mars-2020-rover/\" target=\"_self\">NASA Announces Landing Site for Mars 2020 Rover</a></div><div class=\"article_teaser_body\">After a five-year search, NASA has chosen Jezero Crater as the landing site for its upcoming Mars 2020 rover mission.</div></div></div></li>\n",
      "<li class=\"slide\"><div class=\"image_and_description_container\"><a href=\"/news/8386/nasa-to-host-media-call-on-next-mars-landing-site/\" target=\"_self\"><div class=\"rollover_description\"><div class=\"rollover_description_inner\">NASA will host a media teleconference at 9 a.m. PST (noon EST) Monday, Nov. 19, to provide details about the Mars 2020 rover’s landing site on the Red Planet.</div><div class=\"overlay_arrow\"><img alt=\"More\" src=\"/assets/overlay-arrow.png\"/></div></div><div class=\"list_image\"><img alt=\"This view of Mars was assembled from MOC daily global images obtained on May 12, 2003. \" src=\"/system/news_items/list_view_images/8386_PIA04591-320x240.jpg\"/></div><div class=\"bottom_gradient\"><div><h3>NASA to Host Media Call on Next Mars Landing Site</h3></div></div></a><div class=\"list_text\"><div class=\"list_date\">November 16, 2018</div><div class=\"content_title\"><a href=\"/news/8386/nasa-to-host-media-call-on-next-mars-landing-site/\" target=\"_self\">NASA to Host Media Call on Next Mars Landing Site</a></div><div class=\"article_teaser_body\">NASA will host a media teleconference at 9 a.m. PST (noon EST) Monday, Nov. 19, to provide details about the Mars 2020 rover’s landing site on the Red Planet.</div></div></div></li>\n",
      "<li class=\"slide\"><div class=\"image_and_description_container\"><a href=\"/news/8385/how-nasa-will-know-when-insight-touches-down/\" target=\"_self\"><div class=\"rollover_description\"><div class=\"rollover_description_inner\">On Nov. 26, engineers will look for a combination of signals to determine whether the next spacecraft to Mars lands safely.</div><div class=\"overlay_arrow\"><img alt=\"More\" src=\"/assets/overlay-arrow.png\"/></div></div><div class=\"list_image\"><img alt=\"This animation depicts the MarCO CubeSats relaying data from NASA's InSight lander as it enters the Martian atmosphere.\" src=\"/system/news_items/list_view_images/8385_PIA22738-th.jpg\"/></div><div class=\"bottom_gradient\"><div><h3>How NASA Will Know When InSight Touches Down</h3></div></div></a><div class=\"list_text\"><div class=\"list_date\">November 16, 2018</div><div class=\"content_title\"><a href=\"/news/8385/how-nasa-will-know-when-insight-touches-down/\" target=\"_self\">How NASA Will Know When InSight Touches Down</a></div><div class=\"article_teaser_body\">On Nov. 26, engineers will look for a combination of signals to determine whether the next spacecraft to Mars lands safely.</div></div></div></li>\n",
      "<li class=\"slide\"><div class=\"image_and_description_container\"><a href=\"/news/8384/nasa-brings-mars-landing-to-viewers-everywhere/\" target=\"_self\"><div class=\"rollover_description\"><div class=\"rollover_description_inner\">NASA's InSight lander is scheduled to touch down on the Red Planet at approximately noon PST  on Nov. 26, with a new suite of instruments to probe below the Martian surface.</div><div class=\"overlay_arrow\"><img alt=\"More\" src=\"/assets/overlay-arrow.png\"/></div></div><div class=\"list_image\"><img alt=\"This illustration shows a simulated view of NASA's InSight lander firing retrorockets to slow down as it descends toward the surface of Mars.\" src=\"/system/news_items/list_view_images/8384_PIA22810_320.jpg\"/></div><div class=\"bottom_gradient\"><div><h3>NASA Brings Mars Landing to Viewers Everywhere</h3></div></div></a><div class=\"list_text\"><div class=\"list_date\">November 13, 2018</div><div class=\"content_title\"><a href=\"/news/8384/nasa-brings-mars-landing-to-viewers-everywhere/\" target=\"_self\">NASA Brings Mars Landing to Viewers Everywhere</a></div><div class=\"article_teaser_body\">NASA's InSight lander is scheduled to touch down on the Red Planet at approximately noon PST  on Nov. 26, with a new suite of instruments to probe below the Martian surface.</div></div></div></li>\n",
      "<li class=\"slide\"><div class=\"image_and_description_container\"><a href=\"/news/8371/curiosity-on-the-move-again/\" target=\"_self\"><div class=\"rollover_description\"><div class=\"rollover_description_inner\">NASA's Mars Curiosity rover drove about 197 feet over the weekend to a site called Lake Orcadie, pushing its total odometry to over 12 miles.</div><div class=\"overlay_arrow\"><img alt=\"More\" src=\"/assets/overlay-arrow.png\"/></div></div><div class=\"list_image\"><img alt=\"A self-portrait of NASA's Curiosity rover taken on Sol 2082 (June 15, 2018). A Martian dust storm has reduced sunlight and visibility at the rover's location in Gale Crater.\" src=\"/system/news_items/list_view_images/8371_PIA22486_320x240.jpg\"/></div><div class=\"bottom_gradient\"><div><h3>Curiosity on the Move Again</h3></div></div></a><div class=\"list_text\"><div class=\"list_date\">November  6, 2018</div><div class=\"content_title\"><a href=\"/news/8371/curiosity-on-the-move-again/\" target=\"_self\">Curiosity on the Move Again</a></div><div class=\"article_teaser_body\">NASA's Mars Curiosity rover drove about 197 feet over the weekend to a site called Lake Orcadie, pushing its total odometry to over 12 miles.</div></div></div></li>\n",
      "<li class=\"slide\"><div class=\"image_and_description_container\"><a href=\"/news/8383/the-mars-insight-landing-site-is-just-plain-perfect/\" target=\"_self\"><div class=\"rollover_description\"><div class=\"rollover_description_inner\">If the InSight landing zone were ice cream, it would be vanilla.</div><div class=\"overlay_arrow\"><img alt=\"More\" src=\"/assets/overlay-arrow.png\"/></div></div><div class=\"list_image\"><img alt=\"This artist’s concept depicts the smooth, flat ground that dominates InSight's landing ellipse in the Elysium Planitia region of Mars. \" src=\"/system/news_items/list_view_images/8383_PIA22743-320x240.jpg\"/></div><div class=\"bottom_gradient\"><div><h3>The Mars InSight Landing Site Is Just Plain Perfect</h3></div></div></a><div class=\"list_text\"><div class=\"list_date\">November  5, 2018</div><div class=\"content_title\"><a href=\"/news/8383/the-mars-insight-landing-site-is-just-plain-perfect/\" target=\"_self\">The Mars InSight Landing Site Is Just Plain Perfect</a></div><div class=\"article_teaser_body\">If the InSight landing zone were ice cream, it would be vanilla.</div></div></div></li>\n",
      "<li class=\"slide\"><div class=\"image_and_description_container\"><a href=\"/news/8382/five-things-to-know-about-insights-mars-landing/\" target=\"_self\"><div class=\"rollover_description\"><div class=\"rollover_description_inner\">NASA engineers will be holding their breath when their spacecraft heads into Mars' atmosphere on Nov. 26.</div><div class=\"overlay_arrow\"><img alt=\"More\" src=\"/assets/overlay-arrow.png\"/></div></div><div class=\"list_image\"><img alt=\"This is an illustration showing a simulated view of NASA's InSight lander about to land on the surface of Mars. This view shows the underside of the spacecraft\" src=\"/system/news_items/list_view_images/8382_22097_PIA22812-320x240.jpg\"/></div><div class=\"bottom_gradient\"><div><h3>Five Things to Know About InSight's Mars Landing</h3></div></div></a><div class=\"list_text\"><div class=\"list_date\">October 31, 2018</div><div class=\"content_title\"><a href=\"/news/8382/five-things-to-know-about-insights-mars-landing/\" target=\"_self\">Five Things to Know About InSight's Mars Landing</a></div><div class=\"article_teaser_body\">NASA engineers will be holding their breath when their spacecraft heads into Mars' atmosphere on Nov. 26.</div></div></div></li>\n",
      "<li class=\"slide\"><div class=\"image_and_description_container\"><a href=\"/news/8381/nasa-launches-a-new-podcast-to-mars/\" target=\"_self\"><div class=\"rollover_description\"><div class=\"rollover_description_inner\">NASA's new eight-episode series 'On a Mission' follows the InSight spacecraft on its journey to Mars and details the extraordinary challenges of landing on the Red Planet.</div><div class=\"overlay_arrow\"><img alt=\"More\" src=\"/assets/overlay-arrow.png\"/></div></div><div class=\"list_image\"><img alt='A new NASA podcast \"On a Mission\"' src=\"/system/news_items/list_view_images/8381_On_A_Mission_Podcast_Logo-320x240.jpg\"/></div><div class=\"bottom_gradient\"><div><h3>NASA Launches a New Podcast to Mars</h3></div></div></a><div class=\"list_text\"><div class=\"list_date\">October 29, 2018</div><div class=\"content_title\"><a href=\"/news/8381/nasa-launches-a-new-podcast-to-mars/\" target=\"_self\">NASA Launches a New Podcast to Mars</a></div><div class=\"article_teaser_body\">NASA's new eight-episode series 'On a Mission' follows the InSight spacecraft on its journey to Mars and details the extraordinary challenges of landing on the Red Planet.</div></div></div></li>\n",
      "<li class=\"slide\"><div class=\"image_and_description_container\"><a href=\"/news/8364/update-on-opportunity-rover-recovery-efforts/\" target=\"_self\"><div class=\"rollover_description\"><div class=\"rollover_description_inner\">After a review of the progress of the listening campaign, NASA will continue its current strategy for attempting to make contact with the Opportunity rover for the foreseeable future.</div><div class=\"overlay_arrow\"><img alt=\"More\" src=\"/assets/overlay-arrow.png\"/></div></div><div class=\"list_image\"><img alt=\"This June 2017 view from the Pancam on NASA's Opportunity Mars rover shows the area just above &quot;Perseverance Valley&quot; on a large crater's rim. A broad notch in the crest of the rim, at right, might have been a spillway for a fluid that carved the valley, out of sight on the other side of the rim.\" src=\"/system/news_items/list_view_images/8364_PIA21723-16bth.jpg\"/></div><div class=\"bottom_gradient\"><div><h3>Update on Opportunity Rover Recovery Efforts</h3></div></div></a><div class=\"list_text\"><div class=\"list_date\">October 29, 2018</div><div class=\"content_title\"><a href=\"/news/8364/update-on-opportunity-rover-recovery-efforts/\" target=\"_self\">Update on Opportunity Rover Recovery Efforts</a></div><div class=\"article_teaser_body\">After a review of the progress of the listening campaign, NASA will continue its current strategy for attempting to make contact with the Opportunity rover for the foreseeable future.</div></div></div></li>\n",
      "<li class=\"slide\"><div class=\"image_and_description_container\"><a href=\"/news/8380/third-aspire-test-confirms-mars-2020-parachute-a-go/\" target=\"_self\"><div class=\"rollover_description\"><div class=\"rollover_description_inner\">The supersonic parachute that will handle the heaviest payload yet to the Red Planet – Mars 2020 rover – passes its final sounding rocket test with flying colors.</div><div class=\"overlay_arrow\"><img alt=\"More\" src=\"/assets/overlay-arrow.png\"/></div></div><div class=\"list_image\"><img alt=\"\" src=\"/system/news_items/list_view_images/8380_parachute-16-th.jpg\"/></div><div class=\"bottom_gradient\"><div><h3>Third ASPIRE Test Confirms Mars 2020 Parachute a Go</h3></div></div></a><div class=\"list_text\"><div class=\"list_date\">October 26, 2018</div><div class=\"content_title\"><a href=\"/news/8380/third-aspire-test-confirms-mars-2020-parachute-a-go/\" target=\"_self\">Third ASPIRE Test Confirms Mars 2020 Parachute a Go</a></div><div class=\"article_teaser_body\">The supersonic parachute that will handle the heaviest payload yet to the Red Planet – Mars 2020 rover – passes its final sounding rocket test with flying colors.</div></div></div></li>\n",
      "<li class=\"slide\"><div class=\"image_and_description_container\"><a href=\"/news/8379/nasa-to-host-briefing-on-november-mars-insight-landing/\" target=\"_self\"><div class=\"rollover_description\"><div class=\"rollover_description_inner\">A briefing on NASA's upcoming InSight Mars landing will air on Wed. Oct. 31 at 1:30 p.m. EDT (10:30 a.m. PDT) on NASA TV, the agency's website and NASA InSight Facebook Page.</div><div class=\"overlay_arrow\"><img alt=\"More\" src=\"/assets/overlay-arrow.png\"/></div></div><div class=\"list_image\"><img alt=\"An artist illustration of the InSight lander on Mars.\" src=\"/system/news_items/list_view_images/8379_insight-impression-320x240.jpg\"/></div><div class=\"bottom_gradient\"><div><h3>NASA to Host Briefing on November Mars InSight Landing</h3></div></div></a><div class=\"list_text\"><div class=\"list_date\">October 25, 2018</div><div class=\"content_title\"><a href=\"/news/8379/nasa-to-host-briefing-on-november-mars-insight-landing/\" target=\"_self\">NASA to Host Briefing on November Mars InSight Landing</a></div><div class=\"article_teaser_body\">A briefing on NASA's upcoming InSight Mars landing will air on Wed. Oct. 31 at 1:30 p.m. EDT (10:30 a.m. PDT) on NASA TV, the agency's website and NASA InSight Facebook Page.</div></div></div></li>\n",
      "<li class=\"slide\"><div class=\"image_and_description_container\"><a href=\"/news/8378/nasas-insight-will-study-mars-while-standing-still/\" target=\"_self\"><div class=\"rollover_description\"><div class=\"rollover_description_inner\">The lander's unique science can teach us how planets are born.</div><div class=\"overlay_arrow\"><img alt=\"More\" src=\"/assets/overlay-arrow.png\"/></div></div><div class=\"list_image\"><img alt=\"This artist's concept depicts NASA's InSight lander after it has deployed its instruments on the Martian surface.\" src=\"/system/news_items/list_view_images/8378_PIA22743-320x240.jpg\"/></div><div class=\"bottom_gradient\"><div><h3>NASA's InSight Will Study Mars While Standing Still</h3></div></div></a><div class=\"list_text\"><div class=\"list_date\">October 24, 2018</div><div class=\"content_title\"><a href=\"/news/8378/nasas-insight-will-study-mars-while-standing-still/\" target=\"_self\">NASA's InSight Will Study Mars While Standing Still</a></div><div class=\"article_teaser_body\">The lander's unique science can teach us how planets are born.</div></div></div></li>\n",
      "<li class=\"slide\"><div class=\"image_and_description_container\"><a href=\"/news/8377/nasas-first-image-of-mars-from-a-cubesat/\" target=\"_self\"><div class=\"rollover_description\"><div class=\"rollover_description_inner\">The image was produced by one of the twin briefcase-sized MarCO spacecraft, the first CubeSats to fly to deep space.</div><div class=\"overlay_arrow\"><img alt=\"More\" src=\"/assets/overlay-arrow.png\"/></div></div><div class=\"list_image\"><img alt=\"One of the twin MarCO CubeSats snapped this image of Mars on Oct. 3 – the first image of the Red Planet ever produced by this class of tiny, low-cost spacecraft.\" src=\"/system/news_items/list_view_images/8377_PIA22742_320.jpg\"/></div><div class=\"bottom_gradient\"><div><h3>NASA's First Image of Mars from a CubeSat</h3></div></div></a><div class=\"list_text\"><div class=\"list_date\">October 22, 2018</div><div class=\"content_title\"><a href=\"/news/8377/nasas-first-image-of-mars-from-a-cubesat/\" target=\"_self\">NASA's First Image of Mars from a CubeSat</a></div><div class=\"article_teaser_body\">The image was produced by one of the twin briefcase-sized MarCO spacecraft, the first CubeSats to fly to deep space.</div></div></div></li>\n",
      "<li class=\"slide\"><div class=\"image_and_description_container\"><a href=\"/news/8375/the-claw-game-on-mars-nasa-insight-plays-to-win/\" target=\"_self\"><div class=\"rollover_description\"><div class=\"rollover_description_inner\">NASA's InSight lander will be the first mission to use a robotic arm to grasp instruments from the spacecraft and place them on the surface of another planet. </div><div class=\"overlay_arrow\"><img alt=\"More\" src=\"/assets/overlay-arrow.png\"/></div></div><div class=\"list_image\"><img alt=\"NASA’s InSight mission tests an engineering version of the spacecraft’s robotic arm in a Mars-like environment at NASA’s Jet Propulsion Laboratory. \" src=\"/system/news_items/list_view_images/8375_PIA22806-320.jpg\"/></div><div class=\"bottom_gradient\"><div><h3>The 'Claw Game' on Mars: NASA InSight Plays to Win</h3></div></div></a><div class=\"list_text\"><div class=\"list_date\">October 16, 2018</div><div class=\"content_title\"><a href=\"/news/8375/the-claw-game-on-mars-nasa-insight-plays-to-win/\" target=\"_self\">The 'Claw Game' on Mars: NASA InSight Plays to Win</a></div><div class=\"article_teaser_body\">NASA's InSight lander will be the first mission to use a robotic arm to grasp instruments from the spacecraft and place them on the surface of another planet. </div></div></div></li>\n",
      "<li class=\"slide\"><div class=\"image_and_description_container\"><a href=\"/news/8376/scientists-to-debate-landing-site-for-next-mars-rover/\" target=\"_self\"><div class=\"rollover_description\"><div class=\"rollover_description_inner\">Hundreds of scientists and Mars-exploration enthusiasts gather this week to present, discuss and deliberate the future landing site for NASA's next Red Planet. </div><div class=\"overlay_arrow\"><img alt=\"More\" src=\"/assets/overlay-arrow.png\"/></div></div><div class=\"list_image\"><img alt=\"This artist's rendition depicts NASA's Mars 2020 rover studying a Mars rock outrcrop.\" src=\"/system/news_items/list_view_images/8376_PIA22105-320x240.jpg\"/></div><div class=\"bottom_gradient\"><div><h3>Scientists to Debate Landing Site for Next Mars Rover</h3></div></div></a><div class=\"list_text\"><div class=\"list_date\">October 15, 2018</div><div class=\"content_title\"><a href=\"/news/8376/scientists-to-debate-landing-site-for-next-mars-rover/\" target=\"_self\">Scientists to Debate Landing Site for Next Mars Rover</a></div><div class=\"article_teaser_body\">Hundreds of scientists and Mars-exploration enthusiasts gather this week to present, discuss and deliberate the future landing site for NASA's next Red Planet. </div></div></div></li>\n",
      "<li class=\"slide\"><div class=\"image_and_description_container\"><a href=\"/news/8374/mars-virtual-reality-software-wins-nasa-award/\" target=\"_self\"><div class=\"rollover_description\"><div class=\"rollover_description_inner\">A mixed-reality software that allows scientists and engineers to virtually walk on Mars has received NASA's 2018 Software of the Year Award.</div><div class=\"overlay_arrow\"><img alt=\"More\" src=\"/assets/overlay-arrow.png\"/></div></div><div class=\"list_image\"><img alt=\"This is an image of Apollo 11 astronaut Buzz Aldrin and Erisa Hines of NASA's Jet Propulsion Laboratory trying out the Microsoft HoloLens mixed reality headset during a preview of &quot;Destination: Mars&quot; at Kennedy Space Center visitor complex in Florida. \" src=\"/system/news_items/list_view_images/8374_onsight20181002-16_320x240.jpg\"/></div><div class=\"bottom_gradient\"><div><h3>Mars Virtual Reality Software Wins NASA Award</h3></div></div></a><div class=\"list_text\"><div class=\"list_date\">October 10, 2018</div><div class=\"content_title\"><a href=\"/news/8374/mars-virtual-reality-software-wins-nasa-award/\" target=\"_self\">Mars Virtual Reality Software Wins NASA Award</a></div><div class=\"article_teaser_body\">A mixed-reality software that allows scientists and engineers to virtually walk on Mars has received NASA's 2018 Software of the Year Award.</div></div></div></li>\n",
      "<li class=\"slide\"><div class=\"image_and_description_container\"><a href=\"/news/8373/painting-cars-for-mars/\" target=\"_self\"><div class=\"rollover_description\"><div class=\"rollover_description_inner\">What does NASA do to get a rover ready for Mars? JPL's paint shop does a thousand different paint jobs a year. And while every piece of spacecraft that comes through the shop is important, one headed for the Red Planet adds a little extra oomph.</div><div class=\"overlay_arrow\"><img alt=\"More\" src=\"/assets/overlay-arrow.png\"/></div></div><div class=\"list_image\"><img alt=\"\" src=\"/system/news_items/list_view_images/8373_mars20181004-320.jpg\"/></div><div class=\"bottom_gradient\"><div><h3>Painting Cars for Mars</h3></div></div></a><div class=\"list_text\"><div class=\"list_date\">October  9, 2018</div><div class=\"content_title\"><a href=\"/news/8373/painting-cars-for-mars/\" target=\"_self\">Painting Cars for Mars</a></div><div class=\"article_teaser_body\">What does NASA do to get a rover ready for Mars? JPL's paint shop does a thousand different paint jobs a year. And while every piece of spacecraft that comes through the shop is important, one headed for the Red Planet adds a little extra oomph.</div></div></div></li>\n",
      "<li class=\"slide\"><div class=\"image_and_description_container\"><a href=\"/news/8370/opportunity-emerges-in-a-dusty-picture/\" target=\"_self\"><div class=\"rollover_description\"><div class=\"rollover_description_inner\">NASA still hasn't heard from the Opportunity rover, but at least the agency can see it again.</div><div class=\"overlay_arrow\"><img alt=\"More\" src=\"/assets/overlay-arrow.png\"/></div></div><div class=\"list_image\"><img alt=\"\" src=\"/system/news_items/list_view_images/8370_Oppy-box-320x260.jpg\"/></div><div class=\"bottom_gradient\"><div><h3>Opportunity Emerges in a Dusty Picture</h3></div></div></a><div class=\"list_text\"><div class=\"list_date\">September 25, 2018</div><div class=\"content_title\"><a href=\"/news/8370/opportunity-emerges-in-a-dusty-picture/\" target=\"_self\">Opportunity Emerges in a Dusty Picture</a></div><div class=\"article_teaser_body\">NASA still hasn't heard from the Opportunity rover, but at least the agency can see it again.</div></div></div></li>\n",
      "<li class=\"slide\"><div class=\"image_and_description_container\"><a href=\"/news/8369/nasa-seeking-partner-in-contest-to-name-next-mars-rover/\" target=\"_self\"><div class=\"rollover_description\"><div class=\"rollover_description_inner\">NASA has a class assignment for corporations, nonprofits and educational organizations involved in science and space exploration: partner with the agency to inspire future engineers and scientists by sponsoring a contest to name the next rover to venture to the Red Planet.</div><div class=\"overlay_arrow\"><img alt=\"More\" src=\"/assets/overlay-arrow.png\"/></div></div><div class=\"list_image\"><img alt=\"This artist's rendition depicts NASA's Mars 2020 rover studying its surroundings. Mars 2020 is targeted for launch in July or August 2020 from the Cape Canaveral Air Force Station in Florida.\" src=\"/system/news_items/list_view_images/8369_PIA22109-16_320x240.jpg\"/></div><div class=\"bottom_gradient\"><div><h3>NASA Seeking Partner in Contest to Name Next Mars Rover</h3></div></div></a><div class=\"list_text\"><div class=\"list_date\">September 21, 2018</div><div class=\"content_title\"><a href=\"/news/8369/nasa-seeking-partner-in-contest-to-name-next-mars-rover/\" target=\"_self\">NASA Seeking Partner in Contest to Name Next Mars Rover</a></div><div class=\"article_teaser_body\">NASA has a class assignment for corporations, nonprofits and educational organizations involved in science and space exploration: partner with the agency to inspire future engineers and scientists by sponsoring a contest to name the next rover to venture to the Red Planet.</div></div></div></li>\n",
      "<li class=\"slide\"><div class=\"image_and_description_container\"><a href=\"/news/8368/nasas-maven-selfie-marks-four-years-in-orbit-at-mars/\" target=\"_self\"><div class=\"rollover_description\"><div class=\"rollover_description_inner\">NASA’s MAVEN spacecraft celebrates four years in Mars orbit with a selfie.</div><div class=\"overlay_arrow\"><img alt=\"More\" src=\"/assets/overlay-arrow.png\"/></div></div><div class=\"list_image\"><img alt=\"This is an unannotated composite selfie of the MAVEN spacecraft.\" src=\"/system/news_items/list_view_images/8368_selfie_composite_unannotated-14sep_320x240.jpg\"/></div><div class=\"bottom_gradient\"><div><h3>NASA's MAVEN Selfie Marks Four Years in Orbit at Mars</h3></div></div></a><div class=\"list_text\"><div class=\"list_date\">September 21, 2018</div><div class=\"content_title\"><a href=\"/news/8368/nasas-maven-selfie-marks-four-years-in-orbit-at-mars/\" target=\"_self\">NASA's MAVEN Selfie Marks Four Years in Orbit at Mars</a></div><div class=\"article_teaser_body\">NASA’s MAVEN spacecraft celebrates four years in Mars orbit with a selfie.</div></div></div></li>\n",
      "<li class=\"slide\"><div class=\"image_and_description_container\"><a href=\"/news/8367/marco-makes-space-for-small-explorers/\" target=\"_self\"><div class=\"rollover_description\"><div class=\"rollover_description_inner\">A pair of NASA CubeSats flying to Mars are opening a new frontier for small spacecraft.</div><div class=\"overlay_arrow\"><img alt=\"More\" src=\"/assets/overlay-arrow.png\"/></div></div><div class=\"list_image\"><img alt=\"Engineer Joel Steinkraus uses sunlight to test the solar arrays on one of the Mars Cube One (MarCO) spacecraft.\" src=\"/system/news_items/list_view_images/8367_PIA22317_320x240.jpg\"/></div><div class=\"bottom_gradient\"><div><h3>MarCO Makes Space for Small Explorers</h3></div></div></a><div class=\"list_text\"><div class=\"list_date\">September 13, 2018</div><div class=\"content_title\"><a href=\"/news/8367/marco-makes-space-for-small-explorers/\" target=\"_self\">MarCO Makes Space for Small Explorers</a></div><div class=\"article_teaser_body\">A pair of NASA CubeSats flying to Mars are opening a new frontier for small spacecraft.</div></div></div></li>\n",
      "<li class=\"slide\"><div class=\"image_and_description_container\"><a href=\"/news/8365/curiosity-surveys-a-mystery-under-dusty-skies/\" target=\"_self\"><div class=\"rollover_description\"><div class=\"rollover_description_inner\">NASA's Curiosity rover surveyed its surroundings on Mars, producing a 360-degree panorama of its current location on Vera Rubin Ridge.</div><div class=\"overlay_arrow\"><img alt=\"More\" src=\"/assets/overlay-arrow.png\"/></div></div><div class=\"list_image\"><img alt=\"NASA's Curiosity rover surveyed its surroundings on Mars, producing a 360-degree panorama of its current location on Vera Rubin Ridge.\" src=\"/system/news_items/list_view_images/8365_curiosity20180830-th.jpg\"/></div><div class=\"bottom_gradient\"><div><h3>Curiosity Surveys a Mystery Under Dusty Skies</h3></div></div></a><div class=\"list_text\"><div class=\"list_date\">September  6, 2018</div><div class=\"content_title\"><a href=\"/news/8365/curiosity-surveys-a-mystery-under-dusty-skies/\" target=\"_self\">Curiosity Surveys a Mystery Under Dusty Skies</a></div><div class=\"article_teaser_body\">NASA's Curiosity rover surveyed its surroundings on Mars, producing a 360-degree panorama of its current location on Vera Rubin Ridge.</div></div></div></li>\n",
      "<li class=\"slide\"><div class=\"image_and_description_container\"><a href=\"/news/8363/nasas-insight-has-a-thermometer-for-mars/\" target=\"_self\"><div class=\"rollover_description\"><div class=\"rollover_description_inner\">The mission's heat probe could reveal how the planet's towering volcanoes formed.</div><div class=\"overlay_arrow\"><img alt=\"More\" src=\"/assets/overlay-arrow.png\"/></div></div><div class=\"list_image\"><img alt=\"\" src=\"/system/news_items/list_view_images/8363_marsmountain20180828-320.jpg\"/></div><div class=\"bottom_gradient\"><div><h3>NASA's InSight Has a Thermometer for Mars</h3></div></div></a><div class=\"list_text\"><div class=\"list_date\">August 28, 2018</div><div class=\"content_title\"><a href=\"/news/8363/nasas-insight-has-a-thermometer-for-mars/\" target=\"_self\">NASA's InSight Has a Thermometer for Mars</a></div><div class=\"article_teaser_body\">The mission's heat probe could reveal how the planet's towering volcanoes formed.</div></div></div></li>\n",
      "<li class=\"slide\"><div class=\"image_and_description_container\"><a href=\"/news/8362/digital-creators-apply-for-nasa-mars-landing-event/\" target=\"_self\"><div class=\"rollover_description\"><div class=\"rollover_description_inner\">Up to 30 multimedia participants will be selected for a special two-day event at JPL culminating in the InSight spacecraft's landing on Mars. Apply by Sept. 3.</div><div class=\"overlay_arrow\"><img alt=\"More\" src=\"/assets/overlay-arrow.png\"/></div></div><div class=\"list_image\"><img alt=\"Stu Spath of Lockheed Martin Space discusses NASA's InSight mission to Mars during a prelaunch briefing covered by NASA Social participants on Thursday, May 3, 2018, at Vandenberg Air Force Base in California. \" src=\"/system/news_items/list_view_images/8362_insight_nasa_social-320x240.jpg\"/></div><div class=\"bottom_gradient\"><div><h3>Digital Creators: Apply for NASA Mars Landing Event</h3></div></div></a><div class=\"list_text\"><div class=\"list_date\">August 24, 2018</div><div class=\"content_title\"><a href=\"/news/8362/digital-creators-apply-for-nasa-mars-landing-event/\" target=\"_self\">Digital Creators: Apply for NASA Mars Landing Event</a></div><div class=\"article_teaser_body\">Up to 30 multimedia participants will be selected for a special two-day event at JPL culminating in the InSight spacecraft's landing on Mars. Apply by Sept. 3.</div></div></div></li>\n",
      "<li class=\"slide\"><div class=\"image_and_description_container\"><a href=\"/news/8361/nasas-insight-passes-halfway-to-mars-instruments-check-in/\" target=\"_self\"><div class=\"rollover_description\"><div class=\"rollover_description_inner\">NASA's InSight spacecraft, en route to a Nov. 26 landing on Mars, passed the halfway mark on Aug. 6. All of its instruments have been tested and are working well.</div><div class=\"overlay_arrow\"><img alt=\"More\" src=\"/assets/overlay-arrow.png\"/></div></div><div class=\"list_image\"><img alt=\"This artist's concept shows the InSight spacecraft, encapsulated in its aeroshell, as it cruises to Mars.\" src=\"/system/news_items/list_view_images/8361_insight_cruise_starfield-320.jpg\"/></div><div class=\"bottom_gradient\"><div><h3>NASA's InSight Passes Halfway to Mars, Instruments Check In</h3></div></div></a><div class=\"list_text\"><div class=\"list_date\">August 20, 2018</div><div class=\"content_title\"><a href=\"/news/8361/nasas-insight-passes-halfway-to-mars-instruments-check-in/\" target=\"_self\">NASA's InSight Passes Halfway to Mars, Instruments Check In</a></div><div class=\"article_teaser_body\">NASA's InSight spacecraft, en route to a Nov. 26 landing on Mars, passed the halfway mark on Aug. 6. All of its instruments have been tested and are working well.</div></div></div></li>\n",
      "<li class=\"slide\"><div class=\"image_and_description_container\"><a href=\"/news/8360/six-things-about-opportunitys-recovery-efforts/\" target=\"_self\"><div class=\"rollover_description\"><div class=\"rollover_description_inner\">The global dust storm on Mars could soon let in enough sunlight for the Opportunity rover to recharge.</div><div class=\"overlay_arrow\"><img alt=\"More\" src=\"/assets/overlay-arrow.png\"/></div></div><div class=\"list_image\"><img alt=\"\" src=\"/system/news_items/list_view_images/8360_8354_Mars_Dust_Storm_PIA22487_thumb.jpg\"/></div><div class=\"bottom_gradient\"><div><h3>Six Things About Opportunity's Recovery Efforts</h3></div></div></a><div class=\"list_text\"><div class=\"list_date\">August 16, 2018</div><div class=\"content_title\"><a href=\"/news/8360/six-things-about-opportunitys-recovery-efforts/\" target=\"_self\">Six Things About Opportunity's Recovery Efforts</a></div><div class=\"article_teaser_body\">The global dust storm on Mars could soon let in enough sunlight for the Opportunity rover to recharge.</div></div></div></li>\n",
      "<li class=\"slide\"><div class=\"image_and_description_container\"><a href=\"/news/8359/meet-the-people-behind-nasas-insight-mars-lander/\" target=\"_self\"><div class=\"rollover_description\"><div class=\"rollover_description_inner\">A series of NASA videos highlight scientists and engineers leading the next mission to Mars.</div><div class=\"overlay_arrow\"><img alt=\"More\" src=\"/assets/overlay-arrow.png\"/></div></div><div class=\"list_image\"><img alt=\"L-R: Troy Hudson, Ravi Prakash and Marleen Sundgaard as they appear in a new video series profiling the scientists and engineers behind NASA's InSight spacecraft. Credit: NASA 360\" src=\"/system/news_items/list_view_images/8359_people20180802-th.jpg\"/></div><div class=\"bottom_gradient\"><div><h3>Meet the People Behind NASA's InSight Mars Lander</h3></div></div></a><div class=\"list_text\"><div class=\"list_date\">August  2, 2018</div><div class=\"content_title\"><a href=\"/news/8359/meet-the-people-behind-nasas-insight-mars-lander/\" target=\"_self\">Meet the People Behind NASA's InSight Mars Lander</a></div><div class=\"article_teaser_body\">A series of NASA videos highlight scientists and engineers leading the next mission to Mars.</div></div></div></li>\n",
      "<li class=\"slide\"><div class=\"image_and_description_container\"><a href=\"/news/8358/mars-terraforming-not-possible-using-present-day-technology/\" target=\"_self\"><div class=\"rollover_description\"><div class=\"rollover_description_inner\">Transforming the inhospitable Martian environment into a place astronauts could explore without life support is not possible without technology well beyond today’s capabilities.</div><div class=\"overlay_arrow\"><img alt=\"More\" src=\"/assets/overlay-arrow.png\"/></div></div><div class=\"list_image\"><img alt=\"This is an artist's model of an early Mars - billions of years ago - which may have had oceans and a thicker atmosphere. It was created by filling Mars' lower altitudes with water and adding cloud cover.\" src=\"/system/news_items/list_view_images/8358_maven20180730-320x240.jpg\"/></div><div class=\"bottom_gradient\"><div><h3>Mars Terraforming Not Possible Using Present-Day Technology</h3></div></div></a><div class=\"list_text\"><div class=\"list_date\">July 30, 2018</div><div class=\"content_title\"><a href=\"/news/8358/mars-terraforming-not-possible-using-present-day-technology/\" target=\"_self\">Mars Terraforming Not Possible Using Present-Day Technology</a></div><div class=\"article_teaser_body\">Transforming the inhospitable Martian environment into a place astronauts could explore without life support is not possible without technology well beyond today’s capabilities.</div></div></div></li>\n",
      "<li class=\"slide\"><div class=\"image_and_description_container\"><a href=\"/news/8348/opportunity-hunkers-down-during-dust-storm/\" target=\"_self\"><div class=\"rollover_description\"><div class=\"rollover_description_inner\">It's the beginning of the end for the planet-encircling dust storm on Mars. But it could still be weeks, or even months, before skies are clear enough for NASA's Opportunity rover to recharge its batteries and phone home. </div><div class=\"overlay_arrow\"><img alt=\"More\" src=\"/assets/overlay-arrow.png\"/></div></div><div class=\"list_image\"><img alt=\"This series of images shows simulated views of a darkening Martian sky blotting out the Sun from NASA’s Opportunity rover’s point of view, with the right side simulating Opportunity’s current view in the global dust storm (June 2018). \" src=\"/system/news_items/list_view_images/8348_PIA22521-320.jpg\"/></div><div class=\"bottom_gradient\"><div><h3>Opportunity Hunkers Down During Dust Storm</h3></div></div></a><div class=\"list_text\"><div class=\"list_date\">July 26, 2018</div><div class=\"content_title\"><a href=\"/news/8348/opportunity-hunkers-down-during-dust-storm/\" target=\"_self\">Opportunity Hunkers Down During Dust Storm</a></div><div class=\"article_teaser_body\">It's the beginning of the end for the planet-encircling dust storm on Mars. But it could still be weeks, or even months, before skies are clear enough for NASA's Opportunity rover to recharge its batteries and phone home. </div></div></div></li>\n",
      "<li class=\"slide\"><div class=\"image_and_description_container\"><a href=\"/news/8357/nasa-statement-on-possible-subsurface-lake-near-martian-south-pole/\" target=\"_self\"><div class=\"rollover_description\"><div class=\"rollover_description_inner\">A new paper suggests that liquid water may be sitting under a layer of ice at Mars' south pole.</div><div class=\"overlay_arrow\"><img alt=\"More\" src=\"/assets/overlay-arrow.png\"/></div></div><div class=\"list_image\"><img alt=\"A new paper suggests that liquid water may be sitting under a layer of ice at Mars' south pole.\" src=\"/system/news_items/list_view_images/8357_Screen-Shot-2018-07-25-at-4.24_320x240.jpg\"/></div><div class=\"bottom_gradient\"><div><h3>NASA Statement on Possible Subsurface Lake near Martian South Pole</h3></div></div></a><div class=\"list_text\"><div class=\"list_date\">July 25, 2018</div><div class=\"content_title\"><a href=\"/news/8357/nasa-statement-on-possible-subsurface-lake-near-martian-south-pole/\" target=\"_self\">NASA Statement on Possible Subsurface Lake near Martian South Pole</a></div><div class=\"article_teaser_body\">A new paper suggests that liquid water may be sitting under a layer of ice at Mars' south pole.</div></div></div></li>\n",
      "<li class=\"slide\"><div class=\"image_and_description_container\"><a href=\"/news/8356/jpls-martians-are-coming-to-griffith-observatory/\" target=\"_self\"><div class=\"rollover_description\"><div class=\"rollover_description_inner\">On July 30, when Mars and Earth are closer than they've been since 2003, JPL scientists and engineers will be at a free public event at Griffith Observatory in Los Angeles.</div><div class=\"overlay_arrow\"><img alt=\"More\" src=\"/assets/overlay-arrow.png\"/></div></div><div class=\"list_image\"><img alt=\"Griffith Observatory in Los Angeles.\" src=\"/system/news_items/list_view_images/8356_21969_griffith_observatory_mars_320.jpg\"/></div><div class=\"bottom_gradient\"><div><h3>JPL's 'Martians' Are Coming to Griffith Observatory</h3></div></div></a><div class=\"list_text\"><div class=\"list_date\">July 25, 2018</div><div class=\"content_title\"><a href=\"/news/8356/jpls-martians-are-coming-to-griffith-observatory/\" target=\"_self\">JPL's 'Martians' Are Coming to Griffith Observatory</a></div><div class=\"article_teaser_body\">On July 30, when Mars and Earth are closer than they've been since 2003, JPL scientists and engineers will be at a free public event at Griffith Observatory in Los Angeles.</div></div></div></li>\n",
      "<li class=\"slide\"><div class=\"image_and_description_container\"><a href=\"/news/8355/nasas-maven-spacecraft-finds-that-stolen-electrons-enable-unusual-aurora-on-mars/\" target=\"_self\"><div class=\"rollover_description\"><div class=\"rollover_description_inner\">Auroras appear on Earth as ghostly displays of colorful light in the night sky, usually near the poles.</div><div class=\"overlay_arrow\"><img alt=\"More\" src=\"/assets/overlay-arrow.png\"/></div></div><div class=\"list_image\"><img alt=\"Animation of Proton Aurora at Mars\" src=\"/system/news_items/list_view_images/8355_marsprotonauroramovie-320x240.gif\"/></div><div class=\"bottom_gradient\"><div><h3>NASA's MAVEN Spacecraft Finds That 'Stolen' Electrons Enable Unusual Aurora on Mars</h3></div></div></a><div class=\"list_text\"><div class=\"list_date\">July 23, 2018</div><div class=\"content_title\"><a href=\"/news/8355/nasas-maven-spacecraft-finds-that-stolen-electrons-enable-unusual-aurora-on-mars/\" target=\"_self\">NASA's MAVEN Spacecraft Finds That 'Stolen' Electrons Enable Unusual Aurora on Mars</a></div><div class=\"article_teaser_body\">Auroras appear on Earth as ghostly displays of colorful light in the night sky, usually near the poles.</div></div></div></li>\n"
     ]
    }
   ],
   "source": [
    "#Retrieving news titles and paragraphs\n",
    "news_list = []\n",
    "titles = soup.find_all('div', class_='content_title')\n",
    "paragraphs = soup.find_all('li', class_='slide')\n",
    "print(len(paragraphs))\n",
    "for result in paragraphs:\n",
    "    print(result)"
   ]
  },
  {
   "cell_type": "code",
   "execution_count": 4,
   "metadata": {},
   "outputs": [],
   "source": [
    "# Retrieve the parent divs for all articles\n",
    "news_list = []\n",
    "results = soup.find_all('li', class_='slide')\n",
    "\n",
    "# Loop through results to retrieve article title, header, and timestamp of article\n",
    "for result in results:\n",
    "    title = result.find('div', class_='content_title').text\n",
    "\n",
    "    paragraph = result.find('div', class_='article_teaser_body').text\n",
    "\n",
    "\n",
    "\n",
    "    # Dictionary to be inserted into MongoDB\n",
    "    post = {\n",
    "        'title': title,\n",
    "        'paragraph': paragraph\n",
    "    }\n",
    "    \n",
    "    news_list.append(post)\n",
    "browser.quit()"
   ]
  },
  {
   "cell_type": "code",
   "execution_count": 5,
   "metadata": {},
   "outputs": [],
   "source": [
    "#Url of website to be scraped\n",
    "url2 = 'https://www.jpl.nasa.gov/spaceimages/?search=&category=Mars'\n",
    "#Splinter info\n",
    "executable_path = {'executable_path': '/usr/local/bin/chromedriver'}\n",
    "browser = Browser('chrome', **executable_path, headless=False)\n",
    "browser.visit(url2)"
   ]
  },
  {
   "cell_type": "code",
   "execution_count": 6,
   "metadata": {},
   "outputs": [],
   "source": [
    "## \n",
    "#HTML object\n",
    "html = browser.html\n",
    "# Parse HTML with Beautiful Soup\n",
    "soup = BeautifulSoup(html, 'html.parser')"
   ]
  },
  {
   "cell_type": "code",
   "execution_count": 7,
   "metadata": {},
   "outputs": [],
   "source": [
    "image_text = soup.find('article')['style']\n",
    "image_url = image_text.split(\"'\")[1]\n",
    "image_url_full = 'https://www.jpl.nasa.gov' + image_url\n",
    "browser.quit()"
   ]
  },
  {
   "cell_type": "code",
   "execution_count": 8,
   "metadata": {},
   "outputs": [],
   "source": [
    "#Scrape URL\n",
    "url3 = 'https://twitter.com/marswxreport?lang=en'\n",
    "executable_path = {'executable_path': '/usr/local/bin/chromedriver'}\n",
    "browser = Browser('chrome', **executable_path, headless=False)\n",
    "browser.visit(url3)\n",
    "html = browser.html\n",
    "soup = BeautifulSoup(html, 'html.parser')"
   ]
  },
  {
   "cell_type": "code",
   "execution_count": 9,
   "metadata": {},
   "outputs": [],
   "source": [
    "mars_weather = soup.find('p', class_=\"TweetTextSize TweetTextSize--normal js-tweet-text tweet-text\").text\n",
    "browser.quit()"
   ]
  },
  {
   "cell_type": "code",
   "execution_count": 10,
   "metadata": {},
   "outputs": [],
   "source": [
    "# URL of page to be scraped\n",
    "url4 = 'https://space-facts.com/mars/'\n",
    "executable_path = {'executable_path': '/usr/local/bin/chromedriver'}\n",
    "browser = Browser('chrome', **executable_path, headless=False)\n",
    "browser.visit(url4)\n",
    "html = browser.html\n",
    "soup = BeautifulSoup(html, 'html.parser')"
   ]
  },
  {
   "cell_type": "code",
   "execution_count": 11,
   "metadata": {},
   "outputs": [
    {
     "data": {
      "text/plain": [
       "'<table border=\"1\" class=\"dataframe\">\\n  <thead>\\n    <tr style=\"text-align: right;\">\\n      <th></th>\\n      <th>Value</th>\\n    </tr>\\n    <tr>\\n      <th>Description</th>\\n      <th></th>\\n    </tr>\\n  </thead>\\n  <tbody>\\n    <tr>\\n      <th>Equatorial Diameter:</th>\\n      <td>6,792 km\\\\n</td>\\n    </tr>\\n    <tr>\\n      <th>Polar Diameter:</th>\\n      <td>6,752 km\\\\n</td>\\n    </tr>\\n    <tr>\\n      <th>Mass:</th>\\n      <td>6.42 x 10^23 kg (10.7% Earth)</td>\\n    </tr>\\n    <tr>\\n      <th>Moons:</th>\\n      <td>2 (Phobos &amp; Deimos)</td>\\n    </tr>\\n    <tr>\\n      <th>Orbit Distance:</th>\\n      <td>227,943,824 km (1.52 AU)</td>\\n    </tr>\\n    <tr>\\n      <th>Orbit Period:</th>\\n      <td>687 days (1.9 years)\\\\n</td>\\n    </tr>\\n    <tr>\\n      <th>Surface Temperature:</th>\\n      <td>-153 to 20 °C</td>\\n    </tr>\\n    <tr>\\n      <th>First Record:</th>\\n      <td>2nd millennium BC</td>\\n    </tr>\\n    <tr>\\n      <th>Recorded By:</th>\\n      <td>Egyptian astronomers</td>\\n    </tr>\\n  </tbody>\\n</table>'"
      ]
     },
     "execution_count": 11,
     "metadata": {},
     "output_type": "execute_result"
    }
   ],
   "source": [
    "table = soup.find('tbody')\n",
    "table_rows = table.find_all('tr')\n",
    "pd_data = []\n",
    "for tr in table_rows:\n",
    "    td = tr.find_all('td')\n",
    "    row = [tr.text for tr in td]\n",
    "    pd_data.append(row)\n",
    "mars_df = pd.DataFrame(pd_data, columns=['Description','Value'])\n",
    "mars_df = mars_df.set_index('Description')\n",
    "mars_table = mars_df.to_html()\n",
    "browser.quit()\n",
    "mars_table"
   ]
  },
  {
   "cell_type": "code",
   "execution_count": 12,
   "metadata": {},
   "outputs": [],
   "source": [
    "###Mars Hemispheres\n",
    "#\n",
    "#\n",
    "#\n",
    "url = 'https://astrogeology.usgs.gov/search/map/Mars/Viking/cerberus_enhanced'\n",
    "executable_path = {'executable_path': '/usr/local/bin/chromedriver'}\n",
    "browser = Browser('chrome', **executable_path, headless=False)\n",
    "browser.visit(url)\n",
    "html = browser.html\n",
    "soup = BeautifulSoup(html, 'html.parser')\n",
    "body = soup.find('div', class_='downloads')"
   ]
  },
  {
   "cell_type": "code",
   "execution_count": 13,
   "metadata": {},
   "outputs": [],
   "source": [
    "tif = soup.find('div', class_='wide-image-wrapper')\n",
    "tif.find('img', class_='wide-image')['src']\n",
    "browser.quit()"
   ]
  },
  {
   "cell_type": "code",
   "execution_count": 14,
   "metadata": {},
   "outputs": [
    {
     "data": {
      "text/plain": [
       "[{'title': 'Cerberus Hemisphere',\n",
       "  'img_url': 'https://astrogeology.usgs.gov/cache/images/cfa62af2557222a02478f1fcd781d445_cerberus_enhanced.tif_full.jpg'},\n",
       " {'title': 'Schiaparelli Hemisphere',\n",
       "  'img_url': 'https://astrogeology.usgs.gov/cache/images/3cdd1cbf5e0813bba925c9030d13b62e_schiaparelli_enhanced.tif_full.jpg'},\n",
       " {'title': 'Syrtis Major',\n",
       "  'img_url': 'https://astrogeology.usgs.gov/cache/images/ae209b4e408bb6c3e67b6af38168cf28_syrtis_major_enhanced.tif_full.jpg'},\n",
       " {'title': 'Valles Marineris',\n",
       "  'img_url': 'https://astrogeology.usgs.gov/cache/images/7cf2da4bf549ed01c17f206327be4db7_valles_marineris_enhanced.tif_full.jpg'}]"
      ]
     },
     "execution_count": 14,
     "metadata": {},
     "output_type": "execute_result"
    }
   ],
   "source": [
    "#Creating Lists to store dictionaries and urls\n",
    "hemi_list = []\n",
    "urls = [\n",
    "    'https://astrogeology.usgs.gov/search/map/Mars/Viking/cerberus_enhanced',\n",
    "    'https://astrogeology.usgs.gov/search/map/Mars/Viking/schiaparelli_enhanced',\n",
    "    'https://astrogeology.usgs.gov/search/map/Mars/Viking/syrtis_major_enhanced',\n",
    "    'https://astrogeology.usgs.gov/search/map/Mars/Viking/valles_marineris_enhanced'\n",
    "]\n",
    "#Loop through urls and collect data\n",
    "for url in urls:\n",
    "    executable_path = {'executable_path': '/usr/local/bin/chromedriver'}\n",
    "    browser = Browser('chrome', **executable_path, headless=False)\n",
    "    browser.visit(url)\n",
    "    html = browser.html\n",
    "    soup = BeautifulSoup(html, 'html.parser')\n",
    "    tif = soup.find('div', class_='wide-image-wrapper')\n",
    "    img = 'https://astrogeology.usgs.gov' + tif.find('img', class_='wide-image')['src']\n",
    "    titles = soup.head.title.text.split(' ')\n",
    "    title = titles[0] + ' ' + titles[1]\n",
    "    hemi_dic = {\"title\":title, \"img_url\":img}\n",
    "    hemi_list.append(hemi_dic)\n",
    "    browser.quit()\n",
    "hemi_list"
   ]
  },
  {
   "cell_type": "code",
   "execution_count": null,
   "metadata": {},
   "outputs": [],
   "source": []
  }
 ],
 "metadata": {
  "kernelspec": {
   "display_name": "Python 3",
   "language": "python",
   "name": "python3"
  },
  "language_info": {
   "codemirror_mode": {
    "name": "ipython",
    "version": 3
   },
   "file_extension": ".py",
   "mimetype": "text/x-python",
   "name": "python",
   "nbconvert_exporter": "python",
   "pygments_lexer": "ipython3",
   "version": "3.6.5"
  }
 },
 "nbformat": 4,
 "nbformat_minor": 2
}
